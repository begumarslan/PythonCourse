{
 "cells": [
  {
   "cell_type": "markdown",
   "id": "62e1a5b6",
   "metadata": {},
   "source": [
    "# Importing the Libraries"
   ]
  },
  {
   "cell_type": "code",
   "execution_count": 4,
   "id": "5addfb76",
   "metadata": {},
   "outputs": [],
   "source": [
    "import pandas as pd\n",
    "from bs4 import BeautifulSoup\n",
    "from csv import writer\n",
    "import requests\n",
    "import numpy as np\n",
    "from scipy import stats\n",
    "import statsmodels.api as sm\n",
    "import seaborn as sns\n",
    "import matplotlib.pyplot as plt"
   ]
  },
  {
   "cell_type": "markdown",
   "id": "a5bc6400",
   "metadata": {},
   "source": [
    "# Web Scraping"
   ]
  },
  {
   "cell_type": "markdown",
   "id": "9bd960f9",
   "metadata": {},
   "source": [
    "### Scraping Hürriyet Emlak website to get area, building ages and price of for sale houses"
   ]
  },
  {
   "cell_type": "code",
   "execution_count": 10,
   "id": "5e73fc04",
   "metadata": {},
   "outputs": [],
   "source": [
    "def web_scraping():    \n",
    "    url = \"https://www.hepsiemlak.com/istanbul-satilik?page=\"\n",
    "\n",
    "    with open('housing.csv','w', encoding='utf8',newline='') as f:\n",
    "\n",
    "        csv_writer = writer(f)\n",
    "        header = ['Area', 'Building Age', 'Price']\n",
    "        csv_writer.writerow(header)\n",
    "\n",
    "        for page in range(1,30):\n",
    "            page = requests.get(url + str(page))\n",
    "            soup = BeautifulSoup(page.content, 'html.parser')\n",
    "            lists = soup.find_all('div', class_ = \"list-view-line\")\n",
    "\n",
    "            for line in lists:\n",
    "                price = line.find('div', class_='list-view-price').text.replace('\\n','').replace('.', '')[:-2]\n",
    "                building_age = line.find('span', class_='celly buildingAge').text.replace('\\n','').replace('.', '')[:2]\n",
    "                area = line.find('span', class_= 'celly squareMeter list-view-size').text.replace('\\n','').replace('.', '')[:-2]\n",
    "                csv_writer.writerow([area, building_age, price])\n",
    "                \n",
    "    return \"Scraping successful\""
   ]
  },
  {
   "cell_type": "code",
   "execution_count": 11,
   "id": "5f0ce3cf",
   "metadata": {},
   "outputs": [
    {
     "data": {
      "text/plain": [
       "'Scraping successful'"
      ]
     },
     "execution_count": 11,
     "metadata": {},
     "output_type": "execute_result"
    }
   ],
   "source": [
    "web_scraping()"
   ]
  },
  {
   "cell_type": "markdown",
   "id": "96b8b64d",
   "metadata": {},
   "source": [
    "# Linear Regression Function"
   ]
  },
  {
   "cell_type": "code",
   "execution_count": 62,
   "id": "cd586913",
   "metadata": {},
   "outputs": [],
   "source": [
    "def LinearRegression(covariates,targets):\n",
    "    #Creating arrays\n",
    "    covariates = covariates.dropna().to_numpy()\n",
    "    targets = targets.dropna().to_numpy()\n",
    "    targets = targets.reshape(-1,1)\n",
    "\n",
    "\n",
    "    #Dimensions\n",
    "    n = covariates.shape[0]\n",
    "    k = covariates.shape[1]\n",
    "\n",
    "    #Vector of ones should be created for intercept values\n",
    "    ones = np.ones((n,1))\n",
    "\n",
    "    #Appending vector of ones to X\n",
    "    covariates = np.concatenate((ones, covariates), axis=1)\n",
    "\n",
    "    #Calculating beta\n",
    "    beta = np.matmul(np.matmul(np.linalg.inv(np.matmul(np.transpose(covariates),covariates)),np.transpose(covariates)),targets)\n",
    "    beta = beta.reshape(-1,1)\n",
    "\n",
    "    #Calculating predictions\n",
    "    y_hat = np.matmul(covariates,beta)\n",
    "    y_hat = y_hat.reshape(-1,1)\n",
    "\n",
    "    #Calculating errors\n",
    "    e = np.subtract(targets, y_hat)\n",
    "\n",
    "    #Calculating variance\n",
    "    variance = float(np.matmul(np.transpose(e),e) / (n - k - 1)) #Since the intercept terms not included in degrees of freedom, k* = k+1\n",
    "\n",
    "    #Calculating variance of beta\n",
    "    var_beta = np.diag(np.multiply(variance, np.linalg.inv(np.matmul(np.transpose(covariates),covariates))))\n",
    "    var_beta = var_beta.reshape(-1,1)\n",
    "\n",
    "    #Calculating errors of beta\n",
    "    standard_error = np.sqrt(var_beta)\n",
    "    standard_error = standard_error.reshape(-1,1)\n",
    "\n",
    "    #Calculating lower and upper bound for credible interval of 95%\n",
    "    t = stats.t.ppf((1+0.95)/2., (covariates.shape[0] - covariates.shape[1]-1))\n",
    "\n",
    "    lower_bound = np.subtract(beta, t*standard_error)\n",
    "    upper_bound = np.add(beta, t*standard_error)\n",
    "\n",
    "    return beta, standard_error, lower_bound, upper_bound, covariates, targets"
   ]
  },
  {
   "cell_type": "markdown",
   "id": "2fe68960",
   "metadata": {},
   "source": [
    "# Scatter Plot of Data Points"
   ]
  },
  {
   "cell_type": "code",
   "execution_count": 35,
   "id": "da3deca3",
   "metadata": {},
   "outputs": [],
   "source": [
    "data = pd.read_csv('housing.csv')\n",
    "data = data[data['Building Age'].apply(lambda x: x.isnumeric())]\n",
    "data['Price'] = data['Price'].astype(int)\n",
    "data['Building Age'] = data['Building Age'].astype(int)"
   ]
  },
  {
   "cell_type": "code",
   "execution_count": 38,
   "id": "2ef5e2bd",
   "metadata": {
    "scrolled": false
   },
   "outputs": [
    {
     "data": {
      "image/png": "[encoded data removed]",
      "text/plain": [
       "<Figure size 1152x576 with 1 Axes>"
      ]
     },
     "metadata": {
      "needs_background": "light"
     },
     "output_type": "display_data"
    }
   ],
   "source": [
    "fig, ax = plt.subplots(figsize=(16,8))\n",
    "ax.scatter(data['Area'], data['Price'])\n",
    "ax.set_xlabel('Area of the House')\n",
    "ax.set_ylabel('Price of the House')\n",
    "plt.show()"
   ]
  },
  {
   "cell_type": "code",
   "execution_count": 44,
   "id": "58477bf5",
   "metadata": {},
   "outputs": [
    {
     "data": {
      "image/png": "[encoded data removed]",
      "text/plain": [
       "<Figure size 1152x576 with 1 Axes>"
      ]
     },
     "metadata": {
      "needs_background": "light"
     },
     "output_type": "display_data"
    }
   ],
   "source": [
    "fig, ax = plt.subplots(figsize=(16,8))\n",
    "ax.scatter(data['Building Age'], data['Price'])\n",
    "ax.set_xlabel('Area of the House')\n",
    "ax.set_ylabel('Price of the House')\n",
    "plt.show()"
   ]
  },
  {
   "cell_type": "markdown",
   "id": "d61eafad",
   "metadata": {},
   "source": [
    "As it can be seen, we have some outliers which may disturb the linear regression model. Thus, those points need to be removed from the data set."
   ]
  },
  {
   "cell_type": "markdown",
   "id": "179b050c",
   "metadata": {},
   "source": [
    "# Dealing with Outliers"
   ]
  },
  {
   "cell_type": "code",
   "execution_count": 39,
   "id": "39f22009",
   "metadata": {
    "scrolled": false
   },
   "outputs": [
    {
     "name": "stdout",
     "output_type": "stream",
     "text": [
      "         Area  Building Age     Price\n",
      "0    0.118588      0.312296  0.168739\n",
      "3    0.272942      0.829536  0.159541\n",
      "13   0.272942      1.102795  0.207551\n",
      "15   0.550282      0.839296  0.876511\n",
      "21   0.032835      1.278462  0.411955\n",
      "..        ...           ...       ...\n",
      "534  0.187190      0.751462  0.063539\n",
      "541  0.221491      0.048796  0.453976\n",
      "543  0.238641      0.829536  0.099056\n",
      "545  0.018616      0.927129  0.377789\n",
      "548  0.087218      0.400129  0.401017\n",
      "\n",
      "[234 rows x 3 columns]\n"
     ]
    }
   ],
   "source": [
    "z = np.abs(stats.zscore(data))\n",
    "print(z)"
   ]
  },
  {
   "cell_type": "code",
   "execution_count": 42,
   "id": "a85e6d22",
   "metadata": {},
   "outputs": [],
   "source": [
    "#We give threshold of 3 for the z scores in order to remove the outliers\n",
    "data = data[(z < 3).all(axis=1)]"
   ]
  },
  {
   "cell_type": "markdown",
   "id": "e1900017",
   "metadata": {},
   "source": [
    "# Scaling data in order to fit Linear Regression"
   ]
  },
  {
   "cell_type": "code",
   "execution_count": 45,
   "id": "b304693e",
   "metadata": {
    "scrolled": true
   },
   "outputs": [],
   "source": [
    "from sklearn.preprocessing import MinMaxScaler"
   ]
  },
  {
   "cell_type": "code",
   "execution_count": 46,
   "id": "904cc07e",
   "metadata": {},
   "outputs": [],
   "source": [
    "scaler = MinMaxScaler()"
   ]
  },
  {
   "cell_type": "code",
   "execution_count": 47,
   "id": "471e7519",
   "metadata": {},
   "outputs": [],
   "source": [
    "data_scaled = data.copy()"
   ]
  },
  {
   "cell_type": "code",
   "execution_count": 48,
   "id": "600cd76d",
   "metadata": {},
   "outputs": [],
   "source": [
    "data_scaled[['Area','Building Age','Price']] = scaler.fit_transform(data_scaled[[\"Area\",'Building Age', \"Price\"]])"
   ]
  },
  {
   "cell_type": "markdown",
   "id": "4b9f582e",
   "metadata": {},
   "source": [
    "# Determining covariate and target values and performing Linear Regression"
   ]
  },
  {
   "cell_type": "code",
   "execution_count": 64,
   "id": "ce514a0a",
   "metadata": {},
   "outputs": [],
   "source": [
    "covariates = data_scaled[['Area', 'Building Age']]\n",
    "targets = data_scaled['Price']"
   ]
  },
  {
   "cell_type": "code",
   "execution_count": 65,
   "id": "23e1d892",
   "metadata": {},
   "outputs": [],
   "source": [
    "beta, standard_error, lower_bound, upper_bound, covariates, targets = LinearRegression(covariates,targets)"
   ]
  },
  {
   "cell_type": "code",
   "execution_count": 66,
   "id": "acc924dc",
   "metadata": {
    "scrolled": false
   },
   "outputs": [
    {
     "name": "stdout",
     "output_type": "stream",
     "text": [
      "                    beta          Standard Error               Lower 95%  \\\n",
      "0  [-0.0448451874217035]  [0.019884093686643334]  [-0.08403586715363964]   \n",
      "1   [0.6323724599294093]  [0.051796719448689986]    [0.5302833893854434]   \n",
      "2    [0.098805678165897]   [0.03684687515292847]  [0.026182097428542883]   \n",
      "\n",
      "                 Upper 95%  \n",
      "0  [-0.005654507689767357]  \n",
      "1     [0.7344615304733751]  \n",
      "2     [0.1714292589032511]  \n"
     ]
    }
   ],
   "source": [
    "df = pd.DataFrame(list(zip(beta, standard_error, lower_bound, upper_bound)), \n",
    "               columns =['beta', 'Standard Error', 'Lower 95%', 'Upper 95%']) \n",
    "print(df)"
   ]
  },
  {
   "cell_type": "markdown",
   "id": "a77b1600",
   "metadata": {},
   "source": [
    "# Plotting the Models"
   ]
  },
  {
   "cell_type": "code",
   "execution_count": 98,
   "id": "6b26a3b7",
   "metadata": {},
   "outputs": [
    {
     "data": {
      "image/png": "[encoded data removed]",
      "text/plain": [
       "<Figure size 432x288 with 1 Axes>"
      ]
     },
     "metadata": {},
     "output_type": "display_data"
    }
   ],
   "source": [
    "fig = sns.regplot(x=\"Area\", y=\"Price\", data=data)\n",
    "sns.set_style(\"whitegrid\")\n",
    "plt.title(\"Regression Results\")\n",
    "plt.show()\n"
   ]
  },
  {
   "cell_type": "code",
   "execution_count": 99,
   "id": "b950acb1",
   "metadata": {
    "scrolled": false
   },
   "outputs": [
    {
     "data": {
      "image/png": "[encoded data removed]",
      "text/plain": [
       "<Figure size 432x288 with 1 Axes>"
      ]
     },
     "metadata": {},
     "output_type": "display_data"
    }
   ],
   "source": [
    "fig = sns.regplot(x=\"Building Age\", y=\"Price\", data=data)\n",
    "sns.set_style(\"whitegrid\")\n",
    "plt.title(\"Regression Results\")\n",
    "plt.show()"
   ]
  },
  {
   "cell_type": "markdown",
   "id": "60887310",
   "metadata": {},
   "source": [
    "# Summary table from OLS Statsmodels"
   ]
  },
  {
   "cell_type": "code",
   "execution_count": 77,
   "id": "3802b630",
   "metadata": {},
   "outputs": [],
   "source": [
    "X = data_scaled[['Area', 'Building Age']]\n",
    "y = data_scaled['Price']"
   ]
  },
  {
   "cell_type": "code",
   "execution_count": 79,
   "id": "2f45b0dd",
   "metadata": {
    "scrolled": true
   },
   "outputs": [
    {
     "name": "stderr",
     "output_type": "stream",
     "text": [
      "/opt/anaconda3/lib/python3.8/site-packages/statsmodels/tsa/tsatools.py:142: FutureWarning: In a future version of pandas all arguments of concat except for the argument 'objs' will be keyword-only\n",
      "  x = pd.concat(x[::order], 1)\n"
     ]
    }
   ],
   "source": [
    "#Adding constant to X\n",
    "X = sm.add_constant(X)"
   ]
  },
  {
   "cell_type": "code",
   "execution_count": 83,
   "id": "21c42c9b",
   "metadata": {
    "scrolled": false
   },
   "outputs": [
    {
     "name": "stdout",
     "output_type": "stream",
     "text": [
      "                            OLS Regression Results                            \n",
      "==============================================================================\n",
      "Dep. Variable:                  Price   R-squared:                       0.407\n",
      "Model:                            OLS   Adj. R-squared:                  0.401\n",
      "Method:                 Least Squares   F-statistic:                     74.76\n",
      "Date:                Mon, 06 Dec 2021   Prob (F-statistic):           1.89e-25\n",
      "Time:                        14:13:24   Log-Likelihood:                 158.13\n",
      "No. Observations:                 221   AIC:                            -310.3\n",
      "Df Residuals:                     218   BIC:                            -300.1\n",
      "Df Model:                           2                                         \n",
      "Covariance Type:            nonrobust                                         \n",
      "================================================================================\n",
      "                   coef    std err          t      P>|t|      [0.025      0.975]\n",
      "--------------------------------------------------------------------------------\n",
      "const           -0.0448      0.020     -2.255      0.025      -0.084      -0.006\n",
      "Area             0.6324      0.052     12.209      0.000       0.530       0.734\n",
      "Building Age     0.0988      0.037      2.682      0.008       0.026       0.171\n",
      "==============================================================================\n",
      "Omnibus:                      145.278   Durbin-Watson:                   1.793\n",
      "Prob(Omnibus):                  0.000   Jarque-Bera (JB):             1247.081\n",
      "Skew:                           2.507   Prob(JB):                    1.58e-271\n",
      "Kurtosis:                      13.501   Cond. No.                         7.52\n",
      "==============================================================================\n",
      "\n",
      "Notes:\n",
      "[1] Standard Errors assume that the covariance matrix of the errors is correctly specified.\n"
     ]
    }
   ],
   "source": [
    "SM_model = sm.OLS(y,X).fit()\n",
    "print(SM_model.summary())"
   ]
  }
 ],
 "metadata": {
  "kernelspec": {
   "display_name": "Python 3 (ipykernel)",
   "language": "python",
   "name": "python3"
  },
  "language_info": {
   "codemirror_mode": {
    "name": "ipython",
    "version": 3
   },
   "file_extension": ".py",
   "mimetype": "text/x-python",
   "name": "python",
   "nbconvert_exporter": "python",
   "pygments_lexer": "ipython3",
   "version": "3.8.5"
  }
 },
 "nbformat": 4,
 "nbformat_minor": 5
}
